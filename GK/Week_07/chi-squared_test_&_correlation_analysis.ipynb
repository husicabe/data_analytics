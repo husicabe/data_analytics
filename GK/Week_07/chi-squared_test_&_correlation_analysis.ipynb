{
 "cells": [
  {
   "cell_type": "markdown",
   "metadata": {},
   "source": [
    "# Perform a Chi-squared test of independence"
   ]
  },
  {
   "cell_type": "markdown",
   "metadata": {},
   "source": [
    "## Libraries and settings"
   ]
  },
  {
   "cell_type": "code",
   "execution_count": 12,
   "metadata": {},
   "outputs": [
    {
     "name": "stdout",
     "output_type": "stream",
     "text": [
      "/workspaces/data_analytics/GK/Week_07\n"
     ]
    }
   ],
   "source": [
    "# Libraries\n",
    "import os\n",
    "import numpy as np\n",
    "import pandas as pd\n",
    "import seaborn as sns\n",
    "import matplotlib.pyplot as plt\n",
    "from scipy.stats import chi2\n",
    "from scipy.stats import chi2_contingency\n",
    "from kaggle.api.kaggle_api_extended import KaggleApi\n",
    "\n",
    "# Ignore warnings\n",
    "import warnings\n",
    "warnings.filterwarnings('ignore')\n",
    "\n",
    "# Get current working directory\n",
    "print(os.getcwd())"
   ]
  },
  {
   "cell_type": "markdown",
   "metadata": {},
   "source": [
    "## Contingency table"
   ]
  },
  {
   "cell_type": "code",
   "execution_count": 7,
   "metadata": {},
   "outputs": [
    {
     "data": {
      "text/plain": [
       "array([[207, 282, 241],\n",
       "       [234, 242, 232]])"
      ]
     },
     "execution_count": 7,
     "metadata": {},
     "output_type": "execute_result"
    }
   ],
   "source": [
    "# Contingency table table showing the number of men and women buying different types of pets.     \n",
    "#         dog  cat  bird\n",
    "#    men\t 207  282  241\n",
    "#  women\t 234  242  232\n",
    "\n",
    "tab = np.array([[207,282,241], [234,242,232]])\n",
    "tab"
   ]
  },
  {
   "cell_type": "markdown",
   "metadata": {},
   "source": [
    "## Perform a Chi-square test on the contingency table"
   ]
  },
  {
   "cell_type": "code",
   "execution_count": 8,
   "metadata": {},
   "outputs": [
    {
     "name": "stdout",
     "output_type": "stream",
     "text": [
      "Expected frequencies: \n",
      " [[223.8734 266.0083 240.1182]\n",
      " [217.1266 257.9917 232.8818]] \n",
      "\n",
      "Critical value: 5.9915 \n",
      "\n",
      "Test statistic: 4.5422 \n",
      "\n",
      "Degrees of freedom: 2 \n",
      "\n",
      "p-value: 0.1032\n"
     ]
    }
   ],
   "source": [
    "# Null- and alternative hypothesis\n",
    "# H0 = There is no association [relationship] between the gender and type of pet \n",
    "# H1 = There is an association [relationship] between the gender and type of pet \n",
    "\n",
    "# alpha\n",
    "alpha = 0.05\n",
    "\n",
    "# 1-alpha\n",
    "prob = 0.95\n",
    "\n",
    "# Chi-squared test\n",
    "stat, p, dof, expected = chi2_contingency(tab)\n",
    "\n",
    "# Critical value\n",
    "critical = chi2.ppf(prob, dof)\n",
    "\n",
    "# Print results of the Chi-square test\n",
    "print('Expected frequencies:', '\\n', expected.round(4), '\\n')\n",
    "print('Critical value:', critical.round(4), '\\n')\n",
    "print('Test statistic:', stat.round(4), '\\n')\n",
    "print('Degrees of freedom:', dof, '\\n')\n",
    "print(f'p-value: {p:.4f}')"
   ]
  },
  {
   "cell_type": "markdown",
   "metadata": {},
   "source": [
    "# Interpretation of test result"
   ]
  },
  {
   "cell_type": "code",
   "execution_count": null,
   "metadata": {},
   "outputs": [],
   "source": [
    "# Because the p-value of the Chi-squared test is larger than our significance-level alpha, we cannot reject the null-hypothesis. \n",
    "# There is no relationship between gender and type of pet bought."
   ]
  },
  {
   "cell_type": "markdown",
   "metadata": {},
   "source": [
    "## Correlation analyses"
   ]
  },
  {
   "cell_type": "markdown",
   "metadata": {},
   "source": [
    "## Get data from Kaggle"
   ]
  },
  {
   "cell_type": "code",
   "execution_count": 16,
   "metadata": {},
   "outputs": [
    {
     "ename": "OSError",
     "evalue": "Could not find kaggle.json. Make sure it's located in /home/vscode/.kaggle. Or use the environment method.",
     "output_type": "error",
     "traceback": [
      "\u001b[0;31m---------------------------------------------------------------------------\u001b[0m",
      "\u001b[0;31mOSError\u001b[0m                                   Traceback (most recent call last)",
      "\u001b[1;32m/workspaces/data_analytics/GK/Week_07/chi-squared_test_&_correlation_analysis.ipynb Cell 12\u001b[0m line \u001b[0;36m3\n\u001b[1;32m      <a href='vscode-notebook-cell://codespaces%2Bopulent-waddle-pw77xvgq7jgh656r/workspaces/data_analytics/GK/Week_07/chi-squared_test_%26_correlation_analysis.ipynb#X23sdnNjb2RlLXJlbW90ZQ%3D%3D?line=0'>1</a>\u001b[0m \u001b[39m# Initialize API\u001b[39;00m\n\u001b[1;32m      <a href='vscode-notebook-cell://codespaces%2Bopulent-waddle-pw77xvgq7jgh656r/workspaces/data_analytics/GK/Week_07/chi-squared_test_%26_correlation_analysis.ipynb#X23sdnNjb2RlLXJlbW90ZQ%3D%3D?line=1'>2</a>\u001b[0m api \u001b[39m=\u001b[39m KaggleApi()\n\u001b[0;32m----> <a href='vscode-notebook-cell://codespaces%2Bopulent-waddle-pw77xvgq7jgh656r/workspaces/data_analytics/GK/Week_07/chi-squared_test_%26_correlation_analysis.ipynb#X23sdnNjb2RlLXJlbW90ZQ%3D%3D?line=2'>3</a>\u001b[0m api\u001b[39m.\u001b[39;49mauthenticate()\n\u001b[1;32m      <a href='vscode-notebook-cell://codespaces%2Bopulent-waddle-pw77xvgq7jgh656r/workspaces/data_analytics/GK/Week_07/chi-squared_test_%26_correlation_analysis.ipynb#X23sdnNjb2RlLXJlbW90ZQ%3D%3D?line=4'>5</a>\u001b[0m \u001b[39m# Path to kaggle.json\u001b[39;00m\n\u001b[1;32m      <a href='vscode-notebook-cell://codespaces%2Bopulent-waddle-pw77xvgq7jgh656r/workspaces/data_analytics/GK/Week_07/chi-squared_test_%26_correlation_analysis.ipynb#X23sdnNjb2RlLXJlbW90ZQ%3D%3D?line=5'>6</a>\u001b[0m os\u001b[39m.\u001b[39menviron[\u001b[39m\"\u001b[39m\u001b[39mKAGGLE_CONFIG_DIR\u001b[39m\u001b[39m\"\u001b[39m] \u001b[39m=\u001b[39m \u001b[39m\"\u001b[39m\u001b[39mkaggle.json_file\u001b[39m\u001b[39m\"\u001b[39m\n",
      "File \u001b[0;32m~/.local/lib/python3.10/site-packages/kaggle/api/kaggle_api_extended.py:403\u001b[0m, in \u001b[0;36mKaggleApi.authenticate\u001b[0;34m(self)\u001b[0m\n\u001b[1;32m    401\u001b[0m         config_data \u001b[39m=\u001b[39m \u001b[39mself\u001b[39m\u001b[39m.\u001b[39mread_config_file(config_data)\n\u001b[1;32m    402\u001b[0m     \u001b[39melse\u001b[39;00m:\n\u001b[0;32m--> 403\u001b[0m         \u001b[39mraise\u001b[39;00m \u001b[39mIOError\u001b[39;00m(\u001b[39m'\u001b[39m\u001b[39mCould not find \u001b[39m\u001b[39m{}\u001b[39;00m\u001b[39m. Make sure it\u001b[39m\u001b[39m\\'\u001b[39;00m\u001b[39ms located in\u001b[39m\u001b[39m'\u001b[39m\n\u001b[1;32m    404\u001b[0m                       \u001b[39m'\u001b[39m\u001b[39m \u001b[39m\u001b[39m{}\u001b[39;00m\u001b[39m. Or use the environment method.\u001b[39m\u001b[39m'\u001b[39m\u001b[39m.\u001b[39mformat(\n\u001b[1;32m    405\u001b[0m                           \u001b[39mself\u001b[39m\u001b[39m.\u001b[39mconfig_file, \u001b[39mself\u001b[39m\u001b[39m.\u001b[39mconfig_dir))\n\u001b[1;32m    407\u001b[0m \u001b[39m# Step 3: load into configuration!\u001b[39;00m\n\u001b[1;32m    408\u001b[0m \u001b[39mself\u001b[39m\u001b[39m.\u001b[39m_load_config(config_data)\n",
      "\u001b[0;31mOSError\u001b[0m: Could not find kaggle.json. Make sure it's located in /home/vscode/.kaggle. Or use the environment method."
     ]
    }
   ],
   "source": [
    "# Initialize API\n",
    "api = KaggleApi()\n",
    "api.authenticate()\n",
    "\n",
    "# Path to kaggle.json\n",
    "os.environ[\"KAGGLE_CONFIG_DIR\"] = \"kaggle.json_file\"\n",
    "\n",
    "# Download file\n",
    "api.dataset_download_file('rkiattisak/sports-car-prices-dataset','Sport car price.csv')\n",
    "\n",
    "# Read data to pandas data frame\n",
    "df = pd.read_csv('sportcar_price.csv', sep=',')\n",
    "df"
   ]
  },
  {
   "cell_type": "markdown",
   "metadata": {},
   "source": [
    "## Scatterplots"
   ]
  },
  {
   "cell_type": "code",
   "execution_count": null,
   "metadata": {},
   "outputs": [],
   "source": [
    "sns.set(style=\"ticks\", font_scale=0.8)\n",
    "g = sns.PairGrid(df[['rooms',\n",
    "                     'area',\n",
    "                     'price',\n",
    "                     'price_per_m2',\n",
    "                     'pop_dens',\n",
    "                     'frg_pct',\n",
    "                     'mean_taxable_income']], \n",
    "                 height=0.9, \n",
    "                 aspect=1)\n",
    "g.map_upper(sns.scatterplot,color='darkgreen', s=8)\n",
    "g.map_lower(sns.scatterplot, color='darkgreen', s=8)\n",
    "g.map_diag(plt.hist, color='brown')"
   ]
  }
 ],
 "metadata": {
  "kernelspec": {
   "display_name": "Python 3",
   "language": "python",
   "name": "python3"
  },
  "language_info": {
   "codemirror_mode": {
    "name": "ipython",
    "version": 3
   },
   "file_extension": ".py",
   "mimetype": "text/x-python",
   "name": "python",
   "nbconvert_exporter": "python",
   "pygments_lexer": "ipython3",
   "version": "3.10.13"
  }
 },
 "nbformat": 4,
 "nbformat_minor": 2
}
